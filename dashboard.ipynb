{
 "cells": [
  {
   "cell_type": "code",
   "execution_count": 59,
   "metadata": {},
   "outputs": [],
   "source": [
    "import pandas as pd\n",
    "import numpy as np\n",
    "import plotly.express as px\n",
    "import panel as pn"
   ]
  },
  {
   "cell_type": "markdown",
   "metadata": {},
   "source": [
    "### Read transaction data with categories"
   ]
  },
  {
   "cell_type": "code",
   "execution_count": 87,
   "metadata": {},
   "outputs": [
    {
     "data": {
      "text/html": [
       "<div>\n",
       "<style scoped>\n",
       "    .dataframe tbody tr th:only-of-type {\n",
       "        vertical-align: middle;\n",
       "    }\n",
       "\n",
       "    .dataframe tbody tr th {\n",
       "        vertical-align: top;\n",
       "    }\n",
       "\n",
       "    .dataframe thead th {\n",
       "        text-align: right;\n",
       "    }\n",
       "</style>\n",
       "<table border=\"1\" class=\"dataframe\">\n",
       "  <thead>\n",
       "    <tr style=\"text-align: right;\">\n",
       "      <th></th>\n",
       "      <th>Date</th>\n",
       "      <th>Amount</th>\n",
       "      <th>Description</th>\n",
       "      <th>Category</th>\n",
       "      <th>Subcategory</th>\n",
       "      <th>Type</th>\n",
       "      <th>Year</th>\n",
       "      <th>Month</th>\n",
       "      <th>Month Name</th>\n",
       "    </tr>\n",
       "  </thead>\n",
       "  <tbody>\n",
       "    <tr>\n",
       "      <th>0</th>\n",
       "      <td>01/02/2024</td>\n",
       "      <td>12.44</td>\n",
       "      <td>SPOTIFY 8777781161 NY</td>\n",
       "      <td>Subscription</td>\n",
       "      <td>Music</td>\n",
       "      <td>credit</td>\n",
       "      <td>2024</td>\n",
       "      <td>1</td>\n",
       "      <td>Jan</td>\n",
       "    </tr>\n",
       "    <tr>\n",
       "      <th>1</th>\n",
       "      <td>01/02/2024</td>\n",
       "      <td>1487.00</td>\n",
       "      <td>Zelle payment to PRANAV BHASIN for rent jan\"; ...</td>\n",
       "      <td>Financial Services</td>\n",
       "      <td>Payment</td>\n",
       "      <td>debit</td>\n",
       "      <td>2024</td>\n",
       "      <td>1</td>\n",
       "      <td>Jan</td>\n",
       "    </tr>\n",
       "    <tr>\n",
       "      <th>2</th>\n",
       "      <td>01/02/2024</td>\n",
       "      <td>49.23</td>\n",
       "      <td>PUBLIX #1131 ORLANDO FL</td>\n",
       "      <td>Merchandise &amp; Supplies</td>\n",
       "      <td>Groceries</td>\n",
       "      <td>credit</td>\n",
       "      <td>2024</td>\n",
       "      <td>1</td>\n",
       "      <td>Jan</td>\n",
       "    </tr>\n",
       "    <tr>\n",
       "      <th>3</th>\n",
       "      <td>01/02/2024</td>\n",
       "      <td>-39.00</td>\n",
       "      <td>Zelle payment from ABRAHAM JOSE for Splitwise-...</td>\n",
       "      <td>Financial Services</td>\n",
       "      <td>Transactions</td>\n",
       "      <td>debit</td>\n",
       "      <td>2024</td>\n",
       "      <td>1</td>\n",
       "      <td>Jan</td>\n",
       "    </tr>\n",
       "    <tr>\n",
       "      <th>4</th>\n",
       "      <td>01/02/2024</td>\n",
       "      <td>6.40</td>\n",
       "      <td>AplPay PUBLIX SUPERMORLANDO             FL</td>\n",
       "      <td>Merchandise &amp; Supplies</td>\n",
       "      <td>Groceries</td>\n",
       "      <td>credit</td>\n",
       "      <td>2024</td>\n",
       "      <td>1</td>\n",
       "      <td>Jan</td>\n",
       "    </tr>\n",
       "    <tr>\n",
       "      <th>...</th>\n",
       "      <td>...</td>\n",
       "      <td>...</td>\n",
       "      <td>...</td>\n",
       "      <td>...</td>\n",
       "      <td>...</td>\n",
       "      <td>...</td>\n",
       "      <td>...</td>\n",
       "      <td>...</td>\n",
       "      <td>...</td>\n",
       "    </tr>\n",
       "    <tr>\n",
       "      <th>229</th>\n",
       "      <td>12/26/2023</td>\n",
       "      <td>0.98</td>\n",
       "      <td>UBER *TRIP HELP.UBER.C Vorden NLD</td>\n",
       "      <td>Transportation</td>\n",
       "      <td>Taxis &amp; Coach</td>\n",
       "      <td>credit</td>\n",
       "      <td>2023</td>\n",
       "      <td>12</td>\n",
       "      <td>Dec</td>\n",
       "    </tr>\n",
       "    <tr>\n",
       "      <th>230</th>\n",
       "      <td>12/26/2023</td>\n",
       "      <td>0.02</td>\n",
       "      <td>FOREIGN TRANSACTION FEE</td>\n",
       "      <td>Fees &amp; Adjustments</td>\n",
       "      <td>Other</td>\n",
       "      <td>credit</td>\n",
       "      <td>2023</td>\n",
       "      <td>12</td>\n",
       "      <td>Dec</td>\n",
       "    </tr>\n",
       "    <tr>\n",
       "      <th>231</th>\n",
       "      <td>12/26/2023</td>\n",
       "      <td>25.59</td>\n",
       "      <td>BLAZE PIZZA - WINTER P WINTER PARK FL</td>\n",
       "      <td>Merchandise &amp; Supplies</td>\n",
       "      <td>Groceries</td>\n",
       "      <td>credit</td>\n",
       "      <td>2023</td>\n",
       "      <td>12</td>\n",
       "      <td>Dec</td>\n",
       "    </tr>\n",
       "    <tr>\n",
       "      <th>232</th>\n",
       "      <td>12/27/2023</td>\n",
       "      <td>8.49</td>\n",
       "      <td>PUBLIX #1131 ORLANDO FL</td>\n",
       "      <td>Merchandise &amp; Supplies</td>\n",
       "      <td>Groceries</td>\n",
       "      <td>credit</td>\n",
       "      <td>2023</td>\n",
       "      <td>12</td>\n",
       "      <td>Dec</td>\n",
       "    </tr>\n",
       "    <tr>\n",
       "      <th>233</th>\n",
       "      <td>12/30/2023</td>\n",
       "      <td>105.39</td>\n",
       "      <td>GEICO *AUTO 800-841-3000 DC</td>\n",
       "      <td>Transportation</td>\n",
       "      <td>Insurance</td>\n",
       "      <td>credit</td>\n",
       "      <td>2023</td>\n",
       "      <td>12</td>\n",
       "      <td>Dec</td>\n",
       "    </tr>\n",
       "  </tbody>\n",
       "</table>\n",
       "<p>234 rows × 9 columns</p>\n",
       "</div>"
      ],
      "text/plain": [
       "           Date   Amount                                        Description  \\\n",
       "0    01/02/2024    12.44                              SPOTIFY 8777781161 NY   \n",
       "1    01/02/2024  1487.00  Zelle payment to PRANAV BHASIN for rent jan\"; ...   \n",
       "2    01/02/2024    49.23                            PUBLIX #1131 ORLANDO FL   \n",
       "3    01/02/2024   -39.00  Zelle payment from ABRAHAM JOSE for Splitwise-...   \n",
       "4    01/02/2024     6.40         AplPay PUBLIX SUPERMORLANDO             FL   \n",
       "..          ...      ...                                                ...   \n",
       "229  12/26/2023     0.98                  UBER *TRIP HELP.UBER.C Vorden NLD   \n",
       "230  12/26/2023     0.02                            FOREIGN TRANSACTION FEE   \n",
       "231  12/26/2023    25.59              BLAZE PIZZA - WINTER P WINTER PARK FL   \n",
       "232  12/27/2023     8.49                            PUBLIX #1131 ORLANDO FL   \n",
       "233  12/30/2023   105.39                        GEICO *AUTO 800-841-3000 DC   \n",
       "\n",
       "                   Category    Subcategory    Type  Year  Month Month Name  \n",
       "0              Subscription          Music  credit  2024      1        Jan  \n",
       "1        Financial Services        Payment   debit  2024      1        Jan  \n",
       "2    Merchandise & Supplies      Groceries  credit  2024      1        Jan  \n",
       "3        Financial Services   Transactions   debit  2024      1        Jan  \n",
       "4    Merchandise & Supplies      Groceries  credit  2024      1        Jan  \n",
       "..                      ...            ...     ...   ...    ...        ...  \n",
       "229          Transportation  Taxis & Coach  credit  2023     12        Dec  \n",
       "230      Fees & Adjustments          Other  credit  2023     12        Dec  \n",
       "231  Merchandise & Supplies      Groceries  credit  2023     12        Dec  \n",
       "232  Merchandise & Supplies      Groceries  credit  2023     12        Dec  \n",
       "233          Transportation      Insurance  credit  2023     12        Dec  \n",
       "\n",
       "[234 rows x 9 columns]"
      ]
     },
     "execution_count": 87,
     "metadata": {},
     "output_type": "execute_result"
    }
   ],
   "source": [
    "# Read transactions_2022_2023_categorized.csv\n",
    "df = pd.read_csv('data/sample/transactions.csv')\n",
    "\n",
    "# Add year and month columns\n",
    "df['Year'] = pd.to_datetime(df['Date']).dt.year\n",
    "df['Month'] = pd.to_datetime(df['Date']).dt.month\n",
    "df['Month Name'] = pd.to_datetime(df['Date']).dt.strftime(\"%b\")\n",
    "# remove unnamed column\n",
    "df = df.loc[:, ~df.columns.str.contains('^Unnamed')]\n",
    "df"
   ]
  },
  {
   "cell_type": "markdown",
   "metadata": {},
   "source": [
    "### Data Preprocess"
   ]
  },
  {
   "cell_type": "code",
   "execution_count": 88,
   "metadata": {},
   "outputs": [],
   "source": [
    "# all rows that have CHEP in description convert category to Salary, and subcategory to W2\n",
    "df.loc[df['Description'].str.contains('CHEP'), 'Category'] = 'Salary'\n",
    "df.loc[df['Description'].str.contains('CHEP'), 'Subcategory'] = 'W2'\n"
   ]
  },
  {
   "cell_type": "markdown",
   "metadata": {},
   "source": [
    "### Make pie charts - Income/ Expense breakdown"
   ]
  },
  {
   "cell_type": "code",
   "execution_count": 98,
   "metadata": {},
   "outputs": [],
   "source": [
    "def make_pie_chart_expense_vs_income(df, year, A, B):\n",
    "    # sub_df = df[(df['Year'] == year)]\n",
    "    # color_scale = px.colors.qualitative.Set2\n",
    "    # A vs B\n",
    "\n",
    "    # count all the positive values as total_income\n",
    "    total_income = df[(df['Amount'] > 0) & (df['Year'] == year)]['Amount'].sum()\n",
    "    # count all the negative values as total_expense\n",
    "    total_expense = df[(df['Amount'] < 0) & (df['Year'] == year)]['Amount'].sum()\n",
    "    # print(total_income, total_expense)\n",
    "    if A == 'Income':\n",
    "        total_text = \"$ \" + str(round(total_income))\n",
    "        sub_df = df[(df['Year'] == year) & (df['Amount'] < 0)]\n",
    "        # convert amount to positive\n",
    "        sub_df['Amount'] = sub_df['Amount'].abs()\n",
    "    else:\n",
    "        total_text = \"$ \" + str(-round(total_expense))\n",
    "        sub_df = df[(df['Year'] == year) & (df['Amount'] > 0)]\n",
    "        # convert amount to positive\n",
    "        sub_df['Amount'] = sub_df['Amount'].abs()\n",
    "    # pie of column B vs metric\n",
    "    color_scale = px.colors.qualitative.Set2\n",
    "    pie_fig = px.pie(sub_df, values='Amount', names=_type, color_discrete_sequence = color_scale)\n",
    "    pie_fig.update_traces(textposition='inside', direction ='clockwise', hole=0.3, textinfo=\"label+percent\")\n",
    "\n",
    "    # add total text\n",
    "    pie_fig.update_layout(uniformtext_minsize=10, \n",
    "                        uniformtext_mode='hide',\n",
    "                        title=dict(text=A+' '+B+\" Breakdown \"+str(year)),\n",
    "                        # Add annotations in the center of the donut.\n",
    "                        annotations=[\n",
    "                            dict(\n",
    "                                text=total_text, \n",
    "                                # Square unit grid starting at bottom left of page\n",
    "                                x=0.5, y=0.5, font_size=12,\n",
    "                                # Hide the arrow that points to the [x,y] coordinate\n",
    "                                showarrow=False\n",
    "                            )\n",
    "                        ]\n",
    "                    )\n",
    "    \n",
    "    \n",
    "    return pie_fig, sub_df"
   ]
  },
  {
   "cell_type": "code",
   "execution_count": 104,
   "metadata": {},
   "outputs": [
    {
     "name": "stderr",
     "output_type": "stream",
     "text": [
      "/var/folders/57/qq49wlvd18l75d1d5mcrv4jc0000gn/T/ipykernel_43559/3252291229.py:20: SettingWithCopyWarning:\n",
      "\n",
      "\n",
      "A value is trying to be set on a copy of a slice from a DataFrame.\n",
      "Try using .loc[row_indexer,col_indexer] = value instead\n",
      "\n",
      "See the caveats in the documentation: https://pandas.pydata.org/pandas-docs/stable/user_guide/indexing.html#returning-a-view-versus-a-copy\n",
      "\n"
     ]
    },
    {
     "data": {
      "application/vnd.plotly.v1+json": {
       "config": {
        "plotlyServerURL": "https://plot.ly"
       },
       "data": [
        {
         "direction": "clockwise",
         "domain": {
          "x": [
           0,
           1
          ],
          "y": [
           0,
           1
          ]
         },
         "hole": 0.3,
         "hovertemplate": "Category=%{label}<br>Amount=%{value}<extra></extra>",
         "labels": [
          "Subscription",
          "Financial Services",
          "Merchandise & Supplies",
          "Merchandise & Supplies",
          "E-commerce",
          "Entertainment",
          "Merchandise & Supplies",
          "Merchandise & Supplies",
          "Entertainment",
          "Merchandise & Supplies",
          "Merchandise & Supplies",
          "Restaurant",
          "Entertainment",
          "Entertainment",
          "Business Services",
          "Restaurant",
          "Restaurant",
          "Merchandise & Supplies",
          "Financial Services",
          "Merchandise & Supplies",
          "Transportation",
          "Restaurant",
          "Business Services",
          "Merchandise & Supplies",
          "Merchandise & Supplies",
          "Merchandise & Supplies",
          "Merchandise & Supplies",
          "Merchandise & Supplies",
          "Restaurant",
          "Merchandise & Supplies",
          "Financial Services",
          "Financial Services",
          "Restaurant",
          "Utility",
          "Restaurant",
          "Restaurant",
          "Restaurant",
          "Merchandise & Supplies",
          "Restaurant",
          "Merchandise & Supplies",
          "Financial Services",
          "Merchandise & Supplies",
          "Merchandise & Supplies",
          "Merchandise & Supplies",
          "Restaurant",
          "Restaurant",
          "Merchandise & Supplies",
          "Merchandise & Supplies",
          "Transportation",
          "Merchandise & Supplies",
          "Merchandise & Supplies",
          "Merchandise & Supplies",
          "Financial Services",
          "Subscription",
          "Merchandise & Supplies",
          "Restaurant",
          "Restaurant",
          "Restaurant",
          "Banking",
          "Merchandise & Supplies",
          "Financial Services",
          "Business Services",
          "Restaurant",
          "Business Services",
          "Merchandise & Supplies",
          "Merchandise & Supplies",
          "Restaurant",
          "Restaurant",
          "Restaurant",
          "Payment",
          "Merchandise & Supplies",
          "Business Services",
          "Financial Services",
          "Merchandise & Supplies",
          "Restaurant",
          "Financial Services",
          "Restaurant",
          "Financial Services",
          "Restaurant",
          "Travel",
          "Restaurant",
          "Merchandise & Supplies",
          "Merchandise & Supplies",
          "Merchandise & Supplies",
          "Merchandise & Supplies",
          "Restaurant",
          "Merchandise & Supplies",
          "Restaurant",
          "Merchandise & Supplies",
          "Transportation",
          "Entertainment",
          "Subscription",
          "Restaurant",
          "Merchandise & Supplies",
          "Investment",
          "Merchandise & Supplies",
          "Financial Services",
          "Financial Services",
          "Merchandise & Supplies",
          "Merchandise & Supplies",
          "Business Services",
          "Restaurant",
          "Merchandise & Supplies",
          "Merchandise & Supplies",
          "Entertainment",
          "Merchandise & Supplies",
          "Financial Services",
          "Restaurant",
          "Merchandise & Supplies",
          "Business Services",
          "Restaurant",
          "Merchandise & Supplies",
          "Restaurant",
          "Transportation",
          "Travel",
          "Other",
          "Transportation",
          "Travel",
          "Restaurant",
          "Restaurant",
          "Restaurant",
          "Restaurant",
          "Restaurant",
          "Restaurant",
          "Travel",
          "Restaurant",
          "Transportation",
          "Financial Services",
          "Transportation",
          "Financial Services",
          "Restaurant",
          "Transportation",
          "Merchandise & Supplies",
          "Payment",
          "Restaurant",
          "Payment",
          "Restaurant",
          "Business Services",
          "Restaurant",
          "Restaurant",
          "Fees & Adjustments",
          "Payment",
          "Merchandise & Supplies",
          "Restaurant",
          "Restaurant",
          "Fees & Adjustments",
          "Financial Services",
          "Merchandise & Supplies",
          "Transportation",
          "Merchandise & Supplies",
          "Restaurant",
          "Government",
          "Transportation",
          "Financial Services",
          "Merchandise & Supplies",
          "Financial Services",
          "Subscription",
          "Restaurant",
          "Merchandise & Supplies",
          "Merchandise & Supplies",
          "Payment",
          "Entertainment",
          "Business Services",
          "Restaurant",
          "Restaurant",
          "Restaurant",
          "Financial Services",
          "Restaurant",
          "Business Services",
          "Restaurant",
          "Restaurant",
          "Merchandise & Supplies",
          "Restaurant",
          "Merchandise & Supplies",
          "Merchandise & Supplies",
          "Merchandise & Supplies",
          "Merchandise & Supplies",
          "Financial Services",
          "Financial Services",
          "Travel",
          "Merchandise & Supplies",
          "Restaurant",
          "Restaurant",
          "Restaurant",
          "Restaurant",
          "Merchandise & Supplies",
          "Restaurant",
          "Merchandise & Supplies",
          "Restaurant",
          "Restaurant",
          "Merchandise & Supplies",
          "Payment",
          "Merchandise & Supplies",
          "Merchandise & Supplies",
          "Fees & Adjustments",
          "Restaurant",
          "Restaurant",
          "Merchandise & Supplies",
          "Restaurant",
          "Restaurant",
          "Merchandise & Supplies",
          "Merchandise & Supplies",
          "Merchandise & Supplies",
          "Merchandise & Supplies",
          "Merchandise & Supplies",
          "Restaurant",
          "Restaurant",
          "Restaurant",
          "Merchandise & Supplies",
          "Merchandise & Supplies",
          "Business Services",
          "Merchandise & Supplies",
          "Restaurant",
          "Restaurant",
          "Restaurant"
         ],
         "legendgroup": "",
         "name": "",
         "showlegend": true,
         "textinfo": "label+percent",
         "textposition": "inside",
         "type": "pie",
         "values": [
          12.44,
          1487,
          49.23,
          6.4,
          700,
          5.67,
          8.57,
          13.08,
          4.52,
          110.73,
          0.99,
          68.75,
          7.97,
          4.52,
          7.91,
          33.41,
          68,
          47.17,
          399,
          15.95,
          20,
          37.97,
          41.52,
          68.65,
          27.08,
          116.95,
          105.76,
          29.9,
          56.87,
          58.77,
          700,
          115,
          16.36,
          119.12,
          45.95,
          23.19,
          10.96,
          141.13,
          24.05,
          55.02,
          1130,
          98.68,
          382.32,
          35.13,
          24.05,
          46.38,
          43.85,
          9.99,
          104.79,
          6.5,
          26.01,
          10.64,
          1609,
          12.44,
          113.93,
          14.06,
          15.76,
          22.93,
          399,
          0.99,
          45,
          7.91,
          29.54,
          41.52,
          34.8,
          5,
          24.05,
          22.05,
          14.92,
          104.11,
          43.85,
          19.19,
          700,
          63.56,
          45.5,
          240.07,
          16.12,
          1100,
          23.44,
          77.96,
          1.54,
          23.41,
          48.38,
          37.62,
          90.28,
          9.46,
          112.7,
          13.15,
          9.99,
          103.29,
          31.16,
          12.44,
          24.05,
          7.87,
          700,
          35.93,
          399,
          1482,
          10.64,
          0.99,
          7.91,
          24.91,
          223.65,
          83.63,
          156.5,
          35.72,
          40,
          25.38,
          60.18,
          41.52,
          6.32,
          14.78,
          11.11,
          22.79,
          170.24,
          32,
          52,
          56.35,
          103.28,
          36.56,
          92.15,
          34.15,
          80,
          45,
          56.35,
          43.3,
          2.5,
          404.16,
          24.99,
          700,
          15.76,
          12.96,
          79.26,
          60,
          23.05,
          35,
          30.54,
          19.99,
          25.51,
          46.03,
          17,
          2000,
          133.59,
          13.15,
          18.36,
          17.9,
          10000,
          9.99,
          101.8,
          82.07,
          17.97,
          314,
          27.54,
          1490,
          49.11,
          1000,
          12.44,
          10,
          16.96,
          0.99,
          45,
          3.58,
          7.91,
          82,
          40,
          46.03,
          399,
          16.12,
          41.52,
          13.97,
          3.59,
          91.94,
          15.76,
          61.68,
          41.54,
          12.77,
          12,
          1000,
          135.8,
          88.18,
          99.04,
          30.83,
          13.78,
          8.46,
          38.09,
          6,
          42.34,
          61.31,
          17.15,
          14.78,
          1065,
          1065,
          108.63,
          121.52,
          10.4,
          13.15,
          48.53,
          90.96,
          70,
          11.75,
          18.99,
          101.02,
          72.06,
          9.99,
          21.29,
          9.52,
          31.27,
          25.31,
          4.25,
          26.61,
          7.91,
          109.29,
          16.12,
          127.63,
          7.92
         ]
        }
       ],
       "layout": {
        "annotations": [
         {
          "font": {
           "size": 12
          },
          "showarrow": false,
          "text": "$ 26102",
          "x": 0.5,
          "y": 0.5
         }
        ],
        "legend": {
         "tracegroupgap": 0
        },
        "margin": {
         "t": 60
        },
        "piecolorway": [
         "rgb(102,194,165)",
         "rgb(252,141,98)",
         "rgb(141,160,203)",
         "rgb(231,138,195)",
         "rgb(166,216,84)",
         "rgb(255,217,47)",
         "rgb(229,196,148)",
         "rgb(179,179,179)"
        ],
        "template": {
         "data": {
          "bar": [
           {
            "error_x": {
             "color": "#2a3f5f"
            },
            "error_y": {
             "color": "#2a3f5f"
            },
            "marker": {
             "line": {
              "color": "#E5ECF6",
              "width": 0.5
             },
             "pattern": {
              "fillmode": "overlay",
              "size": 10,
              "solidity": 0.2
             }
            },
            "type": "bar"
           }
          ],
          "barpolar": [
           {
            "marker": {
             "line": {
              "color": "#E5ECF6",
              "width": 0.5
             },
             "pattern": {
              "fillmode": "overlay",
              "size": 10,
              "solidity": 0.2
             }
            },
            "type": "barpolar"
           }
          ],
          "carpet": [
           {
            "aaxis": {
             "endlinecolor": "#2a3f5f",
             "gridcolor": "white",
             "linecolor": "white",
             "minorgridcolor": "white",
             "startlinecolor": "#2a3f5f"
            },
            "baxis": {
             "endlinecolor": "#2a3f5f",
             "gridcolor": "white",
             "linecolor": "white",
             "minorgridcolor": "white",
             "startlinecolor": "#2a3f5f"
            },
            "type": "carpet"
           }
          ],
          "choropleth": [
           {
            "colorbar": {
             "outlinewidth": 0,
             "ticks": ""
            },
            "type": "choropleth"
           }
          ],
          "contour": [
           {
            "colorbar": {
             "outlinewidth": 0,
             "ticks": ""
            },
            "colorscale": [
             [
              0,
              "#0d0887"
             ],
             [
              0.1111111111111111,
              "#46039f"
             ],
             [
              0.2222222222222222,
              "#7201a8"
             ],
             [
              0.3333333333333333,
              "#9c179e"
             ],
             [
              0.4444444444444444,
              "#bd3786"
             ],
             [
              0.5555555555555556,
              "#d8576b"
             ],
             [
              0.6666666666666666,
              "#ed7953"
             ],
             [
              0.7777777777777778,
              "#fb9f3a"
             ],
             [
              0.8888888888888888,
              "#fdca26"
             ],
             [
              1,
              "#f0f921"
             ]
            ],
            "type": "contour"
           }
          ],
          "contourcarpet": [
           {
            "colorbar": {
             "outlinewidth": 0,
             "ticks": ""
            },
            "type": "contourcarpet"
           }
          ],
          "heatmap": [
           {
            "colorbar": {
             "outlinewidth": 0,
             "ticks": ""
            },
            "colorscale": [
             [
              0,
              "#0d0887"
             ],
             [
              0.1111111111111111,
              "#46039f"
             ],
             [
              0.2222222222222222,
              "#7201a8"
             ],
             [
              0.3333333333333333,
              "#9c179e"
             ],
             [
              0.4444444444444444,
              "#bd3786"
             ],
             [
              0.5555555555555556,
              "#d8576b"
             ],
             [
              0.6666666666666666,
              "#ed7953"
             ],
             [
              0.7777777777777778,
              "#fb9f3a"
             ],
             [
              0.8888888888888888,
              "#fdca26"
             ],
             [
              1,
              "#f0f921"
             ]
            ],
            "type": "heatmap"
           }
          ],
          "heatmapgl": [
           {
            "colorbar": {
             "outlinewidth": 0,
             "ticks": ""
            },
            "colorscale": [
             [
              0,
              "#0d0887"
             ],
             [
              0.1111111111111111,
              "#46039f"
             ],
             [
              0.2222222222222222,
              "#7201a8"
             ],
             [
              0.3333333333333333,
              "#9c179e"
             ],
             [
              0.4444444444444444,
              "#bd3786"
             ],
             [
              0.5555555555555556,
              "#d8576b"
             ],
             [
              0.6666666666666666,
              "#ed7953"
             ],
             [
              0.7777777777777778,
              "#fb9f3a"
             ],
             [
              0.8888888888888888,
              "#fdca26"
             ],
             [
              1,
              "#f0f921"
             ]
            ],
            "type": "heatmapgl"
           }
          ],
          "histogram": [
           {
            "marker": {
             "pattern": {
              "fillmode": "overlay",
              "size": 10,
              "solidity": 0.2
             }
            },
            "type": "histogram"
           }
          ],
          "histogram2d": [
           {
            "colorbar": {
             "outlinewidth": 0,
             "ticks": ""
            },
            "colorscale": [
             [
              0,
              "#0d0887"
             ],
             [
              0.1111111111111111,
              "#46039f"
             ],
             [
              0.2222222222222222,
              "#7201a8"
             ],
             [
              0.3333333333333333,
              "#9c179e"
             ],
             [
              0.4444444444444444,
              "#bd3786"
             ],
             [
              0.5555555555555556,
              "#d8576b"
             ],
             [
              0.6666666666666666,
              "#ed7953"
             ],
             [
              0.7777777777777778,
              "#fb9f3a"
             ],
             [
              0.8888888888888888,
              "#fdca26"
             ],
             [
              1,
              "#f0f921"
             ]
            ],
            "type": "histogram2d"
           }
          ],
          "histogram2dcontour": [
           {
            "colorbar": {
             "outlinewidth": 0,
             "ticks": ""
            },
            "colorscale": [
             [
              0,
              "#0d0887"
             ],
             [
              0.1111111111111111,
              "#46039f"
             ],
             [
              0.2222222222222222,
              "#7201a8"
             ],
             [
              0.3333333333333333,
              "#9c179e"
             ],
             [
              0.4444444444444444,
              "#bd3786"
             ],
             [
              0.5555555555555556,
              "#d8576b"
             ],
             [
              0.6666666666666666,
              "#ed7953"
             ],
             [
              0.7777777777777778,
              "#fb9f3a"
             ],
             [
              0.8888888888888888,
              "#fdca26"
             ],
             [
              1,
              "#f0f921"
             ]
            ],
            "type": "histogram2dcontour"
           }
          ],
          "mesh3d": [
           {
            "colorbar": {
             "outlinewidth": 0,
             "ticks": ""
            },
            "type": "mesh3d"
           }
          ],
          "parcoords": [
           {
            "line": {
             "colorbar": {
              "outlinewidth": 0,
              "ticks": ""
             }
            },
            "type": "parcoords"
           }
          ],
          "pie": [
           {
            "automargin": true,
            "type": "pie"
           }
          ],
          "scatter": [
           {
            "fillpattern": {
             "fillmode": "overlay",
             "size": 10,
             "solidity": 0.2
            },
            "type": "scatter"
           }
          ],
          "scatter3d": [
           {
            "line": {
             "colorbar": {
              "outlinewidth": 0,
              "ticks": ""
             }
            },
            "marker": {
             "colorbar": {
              "outlinewidth": 0,
              "ticks": ""
             }
            },
            "type": "scatter3d"
           }
          ],
          "scattercarpet": [
           {
            "marker": {
             "colorbar": {
              "outlinewidth": 0,
              "ticks": ""
             }
            },
            "type": "scattercarpet"
           }
          ],
          "scattergeo": [
           {
            "marker": {
             "colorbar": {
              "outlinewidth": 0,
              "ticks": ""
             }
            },
            "type": "scattergeo"
           }
          ],
          "scattergl": [
           {
            "marker": {
             "colorbar": {
              "outlinewidth": 0,
              "ticks": ""
             }
            },
            "type": "scattergl"
           }
          ],
          "scattermapbox": [
           {
            "marker": {
             "colorbar": {
              "outlinewidth": 0,
              "ticks": ""
             }
            },
            "type": "scattermapbox"
           }
          ],
          "scatterpolar": [
           {
            "marker": {
             "colorbar": {
              "outlinewidth": 0,
              "ticks": ""
             }
            },
            "type": "scatterpolar"
           }
          ],
          "scatterpolargl": [
           {
            "marker": {
             "colorbar": {
              "outlinewidth": 0,
              "ticks": ""
             }
            },
            "type": "scatterpolargl"
           }
          ],
          "scatterternary": [
           {
            "marker": {
             "colorbar": {
              "outlinewidth": 0,
              "ticks": ""
             }
            },
            "type": "scatterternary"
           }
          ],
          "surface": [
           {
            "colorbar": {
             "outlinewidth": 0,
             "ticks": ""
            },
            "colorscale": [
             [
              0,
              "#0d0887"
             ],
             [
              0.1111111111111111,
              "#46039f"
             ],
             [
              0.2222222222222222,
              "#7201a8"
             ],
             [
              0.3333333333333333,
              "#9c179e"
             ],
             [
              0.4444444444444444,
              "#bd3786"
             ],
             [
              0.5555555555555556,
              "#d8576b"
             ],
             [
              0.6666666666666666,
              "#ed7953"
             ],
             [
              0.7777777777777778,
              "#fb9f3a"
             ],
             [
              0.8888888888888888,
              "#fdca26"
             ],
             [
              1,
              "#f0f921"
             ]
            ],
            "type": "surface"
           }
          ],
          "table": [
           {
            "cells": {
             "fill": {
              "color": "#EBF0F8"
             },
             "line": {
              "color": "white"
             }
            },
            "header": {
             "fill": {
              "color": "#C8D4E3"
             },
             "line": {
              "color": "white"
             }
            },
            "type": "table"
           }
          ]
         },
         "layout": {
          "annotationdefaults": {
           "arrowcolor": "#2a3f5f",
           "arrowhead": 0,
           "arrowwidth": 1
          },
          "autotypenumbers": "strict",
          "coloraxis": {
           "colorbar": {
            "outlinewidth": 0,
            "ticks": ""
           }
          },
          "colorscale": {
           "diverging": [
            [
             0,
             "#8e0152"
            ],
            [
             0.1,
             "#c51b7d"
            ],
            [
             0.2,
             "#de77ae"
            ],
            [
             0.3,
             "#f1b6da"
            ],
            [
             0.4,
             "#fde0ef"
            ],
            [
             0.5,
             "#f7f7f7"
            ],
            [
             0.6,
             "#e6f5d0"
            ],
            [
             0.7,
             "#b8e186"
            ],
            [
             0.8,
             "#7fbc41"
            ],
            [
             0.9,
             "#4d9221"
            ],
            [
             1,
             "#276419"
            ]
           ],
           "sequential": [
            [
             0,
             "#0d0887"
            ],
            [
             0.1111111111111111,
             "#46039f"
            ],
            [
             0.2222222222222222,
             "#7201a8"
            ],
            [
             0.3333333333333333,
             "#9c179e"
            ],
            [
             0.4444444444444444,
             "#bd3786"
            ],
            [
             0.5555555555555556,
             "#d8576b"
            ],
            [
             0.6666666666666666,
             "#ed7953"
            ],
            [
             0.7777777777777778,
             "#fb9f3a"
            ],
            [
             0.8888888888888888,
             "#fdca26"
            ],
            [
             1,
             "#f0f921"
            ]
           ],
           "sequentialminus": [
            [
             0,
             "#0d0887"
            ],
            [
             0.1111111111111111,
             "#46039f"
            ],
            [
             0.2222222222222222,
             "#7201a8"
            ],
            [
             0.3333333333333333,
             "#9c179e"
            ],
            [
             0.4444444444444444,
             "#bd3786"
            ],
            [
             0.5555555555555556,
             "#d8576b"
            ],
            [
             0.6666666666666666,
             "#ed7953"
            ],
            [
             0.7777777777777778,
             "#fb9f3a"
            ],
            [
             0.8888888888888888,
             "#fdca26"
            ],
            [
             1,
             "#f0f921"
            ]
           ]
          },
          "colorway": [
           "#636efa",
           "#EF553B",
           "#00cc96",
           "#ab63fa",
           "#FFA15A",
           "#19d3f3",
           "#FF6692",
           "#B6E880",
           "#FF97FF",
           "#FECB52"
          ],
          "font": {
           "color": "#2a3f5f"
          },
          "geo": {
           "bgcolor": "white",
           "lakecolor": "white",
           "landcolor": "#E5ECF6",
           "showlakes": true,
           "showland": true,
           "subunitcolor": "white"
          },
          "hoverlabel": {
           "align": "left"
          },
          "hovermode": "closest",
          "mapbox": {
           "style": "light"
          },
          "paper_bgcolor": "white",
          "plot_bgcolor": "#E5ECF6",
          "polar": {
           "angularaxis": {
            "gridcolor": "white",
            "linecolor": "white",
            "ticks": ""
           },
           "bgcolor": "#E5ECF6",
           "radialaxis": {
            "gridcolor": "white",
            "linecolor": "white",
            "ticks": ""
           }
          },
          "scene": {
           "xaxis": {
            "backgroundcolor": "#E5ECF6",
            "gridcolor": "white",
            "gridwidth": 2,
            "linecolor": "white",
            "showbackground": true,
            "ticks": "",
            "zerolinecolor": "white"
           },
           "yaxis": {
            "backgroundcolor": "#E5ECF6",
            "gridcolor": "white",
            "gridwidth": 2,
            "linecolor": "white",
            "showbackground": true,
            "ticks": "",
            "zerolinecolor": "white"
           },
           "zaxis": {
            "backgroundcolor": "#E5ECF6",
            "gridcolor": "white",
            "gridwidth": 2,
            "linecolor": "white",
            "showbackground": true,
            "ticks": "",
            "zerolinecolor": "white"
           }
          },
          "shapedefaults": {
           "line": {
            "color": "#2a3f5f"
           }
          },
          "ternary": {
           "aaxis": {
            "gridcolor": "white",
            "linecolor": "white",
            "ticks": ""
           },
           "baxis": {
            "gridcolor": "white",
            "linecolor": "white",
            "ticks": ""
           },
           "bgcolor": "#E5ECF6",
           "caxis": {
            "gridcolor": "white",
            "linecolor": "white",
            "ticks": ""
           }
          },
          "title": {
           "x": 0.05
          },
          "xaxis": {
           "automargin": true,
           "gridcolor": "white",
           "linecolor": "white",
           "ticks": "",
           "title": {
            "standoff": 15
           },
           "zerolinecolor": "white",
           "zerolinewidth": 2
          },
          "yaxis": {
           "automargin": true,
           "gridcolor": "white",
           "linecolor": "white",
           "ticks": "",
           "title": {
            "standoff": 15
           },
           "zerolinecolor": "white",
           "zerolinewidth": 2
          }
         }
        },
        "title": {
         "text": "Expense Category Breakdown 2024"
        },
        "uniformtext": {
         "minsize": 10,
         "mode": "hide"
        }
       }
      }
     },
     "metadata": {},
     "output_type": "display_data"
    }
   ],
   "source": [
    "# metric = 'Income'\n",
    "# _type = 'Category'\n",
    "# income_pie, income_df = make_pie_chart_expense_vs_income(df, 2024, metric, _type)\n",
    "# income_pie\n",
    "\n",
    "metric = 'Expense'\n",
    "_type = 'Category'\n",
    "expense_pie, expense_df = make_pie_chart_expense_vs_income(df, 2024, metric, _type)\n",
    "expense_pie"
   ]
  },
  {
   "cell_type": "code",
   "execution_count": 101,
   "metadata": {},
   "outputs": [
    {
     "data": {
      "text/html": [
       "<div>\n",
       "<style scoped>\n",
       "    .dataframe tbody tr th:only-of-type {\n",
       "        vertical-align: middle;\n",
       "    }\n",
       "\n",
       "    .dataframe tbody tr th {\n",
       "        vertical-align: top;\n",
       "    }\n",
       "\n",
       "    .dataframe thead th {\n",
       "        text-align: right;\n",
       "    }\n",
       "</style>\n",
       "<table border=\"1\" class=\"dataframe\">\n",
       "  <thead>\n",
       "    <tr style=\"text-align: right;\">\n",
       "      <th></th>\n",
       "      <th>Date</th>\n",
       "      <th>Amount</th>\n",
       "      <th>Description</th>\n",
       "      <th>Category</th>\n",
       "      <th>Subcategory</th>\n",
       "      <th>Type</th>\n",
       "      <th>Year</th>\n",
       "      <th>Month</th>\n",
       "      <th>Month Name</th>\n",
       "    </tr>\n",
       "  </thead>\n",
       "  <tbody>\n",
       "    <tr>\n",
       "      <th>5</th>\n",
       "      <td>01/03/2024</td>\n",
       "      <td>700.00</td>\n",
       "      <td>ROBINHOOD DES:DEBITS ID:XXXXX9939 INDN:Kesar M...</td>\n",
       "      <td>E-commerce</td>\n",
       "      <td>Financial Services</td>\n",
       "      <td>debit</td>\n",
       "      <td>2024</td>\n",
       "      <td>1</td>\n",
       "      <td>Jan</td>\n",
       "    </tr>\n",
       "    <tr>\n",
       "      <th>74</th>\n",
       "      <td>02/14/2024</td>\n",
       "      <td>104.11</td>\n",
       "      <td>Orlando Util Com DES:PAYMENTS ID:XXXXX48816 IN...</td>\n",
       "      <td>Payment</td>\n",
       "      <td>Financial Services</td>\n",
       "      <td>debit</td>\n",
       "      <td>2024</td>\n",
       "      <td>2</td>\n",
       "      <td>Feb</td>\n",
       "    </tr>\n",
       "    <tr>\n",
       "      <th>140</th>\n",
       "      <td>03/19/2024</td>\n",
       "      <td>60.00</td>\n",
       "      <td>APPLE CASH SENT M 03/18 PMNT SENT XXXXX38552 CA</td>\n",
       "      <td>Payment</td>\n",
       "      <td>Financial Services</td>\n",
       "      <td>debit</td>\n",
       "      <td>2024</td>\n",
       "      <td>3</td>\n",
       "      <td>Mar</td>\n",
       "    </tr>\n",
       "    <tr>\n",
       "      <th>142</th>\n",
       "      <td>03/19/2024</td>\n",
       "      <td>35.00</td>\n",
       "      <td>VENMO DES:PAYMENT ID:XXXXX18584886 INDN:KESAR ...</td>\n",
       "      <td>Payment</td>\n",
       "      <td>Financial Services</td>\n",
       "      <td>debit</td>\n",
       "      <td>2024</td>\n",
       "      <td>3</td>\n",
       "      <td>Mar</td>\n",
       "    </tr>\n",
       "    <tr>\n",
       "      <th>149</th>\n",
       "      <td>03/25/2024</td>\n",
       "      <td>2000.00</td>\n",
       "      <td>AMERICAN EXPRESS DES:ACH PMT ID:W5190 INDN:Kes...</td>\n",
       "      <td>Payment</td>\n",
       "      <td>Financial Services</td>\n",
       "      <td>debit</td>\n",
       "      <td>2024</td>\n",
       "      <td>3</td>\n",
       "      <td>Mar</td>\n",
       "    </tr>\n",
       "    <tr>\n",
       "      <th>169</th>\n",
       "      <td>04/05/2024</td>\n",
       "      <td>45.00</td>\n",
       "      <td>CASH APP*KEVIN PE 04/05 PMNT SENT XXXXX91940 CA</td>\n",
       "      <td>Payment</td>\n",
       "      <td>Financial Services</td>\n",
       "      <td>debit</td>\n",
       "      <td>2024</td>\n",
       "      <td>4</td>\n",
       "      <td>Apr</td>\n",
       "    </tr>\n",
       "    <tr>\n",
       "      <th>201</th>\n",
       "      <td>04/23/2024</td>\n",
       "      <td>1065.00</td>\n",
       "      <td>AMERICAN EXPRESS DES:ACH PMT ID:M6304 INDN:Kes...</td>\n",
       "      <td>Payment</td>\n",
       "      <td>Financial Services</td>\n",
       "      <td>debit</td>\n",
       "      <td>2024</td>\n",
       "      <td>4</td>\n",
       "      <td>Apr</td>\n",
       "    </tr>\n",
       "  </tbody>\n",
       "</table>\n",
       "</div>"
      ],
      "text/plain": [
       "           Date   Amount                                        Description  \\\n",
       "5    01/03/2024   700.00  ROBINHOOD DES:DEBITS ID:XXXXX9939 INDN:Kesar M...   \n",
       "74   02/14/2024   104.11  Orlando Util Com DES:PAYMENTS ID:XXXXX48816 IN...   \n",
       "140  03/19/2024    60.00    APPLE CASH SENT M 03/18 PMNT SENT XXXXX38552 CA   \n",
       "142  03/19/2024    35.00  VENMO DES:PAYMENT ID:XXXXX18584886 INDN:KESAR ...   \n",
       "149  03/25/2024  2000.00  AMERICAN EXPRESS DES:ACH PMT ID:W5190 INDN:Kes...   \n",
       "169  04/05/2024    45.00    CASH APP*KEVIN PE 04/05 PMNT SENT XXXXX91940 CA   \n",
       "201  04/23/2024  1065.00  AMERICAN EXPRESS DES:ACH PMT ID:M6304 INDN:Kes...   \n",
       "\n",
       "       Category         Subcategory   Type  Year  Month Month Name  \n",
       "5    E-commerce  Financial Services  debit  2024      1        Jan  \n",
       "74      Payment  Financial Services  debit  2024      2        Feb  \n",
       "140     Payment  Financial Services  debit  2024      3        Mar  \n",
       "142     Payment  Financial Services  debit  2024      3        Mar  \n",
       "149     Payment  Financial Services  debit  2024      3        Mar  \n",
       "169     Payment  Financial Services  debit  2024      4        Apr  \n",
       "201     Payment  Financial Services  debit  2024      4        Apr  "
      ]
     },
     "execution_count": 101,
     "metadata": {},
     "output_type": "execute_result"
    }
   ],
   "source": [
    "# print expense_df.category == 'Payment'\n",
    "expense_df[expense_df['Subcategory'] == 'Financial Services']"
   ]
  },
  {
   "cell_type": "markdown",
   "metadata": {},
   "source": [
    "### Make bar charts over months in a year"
   ]
  },
  {
   "cell_type": "code",
   "execution_count": null,
   "metadata": {},
   "outputs": [],
   "source": [
    "def make_monthly_bar_chart(df, year, label):\n",
    "    df = df[(df['Expense/Income'] == label) & (df['Year'] == year)]\n",
    "    total_by_month = (df.groupby(['Month', 'Month Name'])['Amount (EUR)'].sum()\n",
    "                        .to_frame()\n",
    "                        .reset_index()\n",
    "                        .sort_values(by='Month')  \n",
    "                        .reset_index(drop=True))\n",
    "    if label == \"Income\":\n",
    "        color_scale = px.colors.sequential.YlGn\n",
    "    if label == \"Expense\":\n",
    "        color_scale = px.colors.sequential.OrRd\n",
    "    \n",
    "    bar_fig = px.bar(total_by_month, x='Month Name', y='Amount (EUR)', text_auto='.2s', title=label+\" per month\", color='Amount (EUR)', color_continuous_scale=color_scale)\n",
    "    # bar_fig.update_traces(marker_color='lightslategrey')\n",
    "    \n",
    "    return bar_fig"
   ]
  },
  {
   "cell_type": "code",
   "execution_count": null,
   "metadata": {},
   "outputs": [],
   "source": [
    "income_monthly_2022 = make_monthly_bar_chart(df, 2022, 'Income')\n",
    "income_monthly_2022"
   ]
  },
  {
   "cell_type": "markdown",
   "metadata": {},
   "source": [
    "### Putting all charts together into tabs for 2022/2023"
   ]
  },
  {
   "cell_type": "code",
   "execution_count": null,
   "metadata": {},
   "outputs": [],
   "source": [
    "# Pie charts\n",
    "income_pie_fig_2022 = make_pie_chart(df, 2022, 'Income')\n",
    "expense_pie_fig_2022 = make_pie_chart(df, 2022, 'Expense')  \n",
    "income_pie_fig_2023 = make_pie_chart(df, 2023, 'Income')\n",
    "expense_pie_fig_2023 = make_pie_chart(df, 2023, 'Expense')\n",
    "\n",
    "# Bar charts\n",
    "income_monthly_2022 = make_monthly_bar_chart(df, 2022, 'Income')\n",
    "expense_monthly_2022 = make_monthly_bar_chart(df, 2022, 'Expense')\n",
    "income_monthly_2023 = make_monthly_bar_chart(df, 2023, 'Income')\n",
    "expense_monthly_2023 = make_monthly_bar_chart(df, 2023, 'Expense')\n",
    "\n",
    "# Create tabs\n",
    "tabs = pn.Tabs(\n",
    "                        ('2022', pn.Column(pn.Row(income_pie_fig_2022, expense_pie_fig_2022),\n",
    "                                                pn.Row(income_monthly_2022, expense_monthly_2022))),\n",
    "                        ('2023', pn.Column(pn.Row(income_pie_fig_2023, expense_pie_fig_2023),\n",
    "                                                pn.Row(income_monthly_2023, expense_monthly_2023))\n",
    "                        )\n",
    "                )\n",
    "tabs.show()"
   ]
  },
  {
   "cell_type": "markdown",
   "metadata": {},
   "source": [
    "### Create dashboard"
   ]
  },
  {
   "cell_type": "code",
   "execution_count": null,
   "metadata": {},
   "outputs": [],
   "source": [
    "# Dashboard template\n",
    "template = pn.template.FastListTemplate(\n",
    "    title='Personal Finance Dashboard',\n",
    "    sidebar=[pn.pane.Markdown(\"# Income Expense analysis\"), \n",
    "             pn.pane.Markdown(\"Overview of income and expense based on my bank transactions. Categories are obtained using local LLMs.\"),\n",
    "             pn.pane.PNG(\"picture.png\", sizing_mode=\"scale_both\")\n",
    "             ],\n",
    "    main=[pn.Row(pn.Column(pn.Row(tabs)\n",
    "                           )\n",
    "                ),\n",
    "                ],\n",
    "    # accent_base_color=\"#88d8b0\",\n",
    "    header_background=\"#c0b9dd\",\n",
    ")\n",
    "\n",
    "template.show()"
   ]
  },
  {
   "cell_type": "code",
   "execution_count": null,
   "metadata": {},
   "outputs": [],
   "source": []
  }
 ],
 "metadata": {
  "kernelspec": {
   "display_name": "Python 3",
   "language": "python",
   "name": "python3"
  },
  "language_info": {
   "codemirror_mode": {
    "name": "ipython",
    "version": 3
   },
   "file_extension": ".py",
   "mimetype": "text/x-python",
   "name": "python",
   "nbconvert_exporter": "python",
   "pygments_lexer": "ipython3",
   "version": "3.9.7"
  }
 },
 "nbformat": 4,
 "nbformat_minor": 2
}
